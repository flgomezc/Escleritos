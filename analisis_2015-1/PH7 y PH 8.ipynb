{
 "cells": [
  {
   "cell_type": "code",
   "execution_count": 1,
   "metadata": {
    "collapsed": false
   },
   "outputs": [
    {
     "name": "stdout",
     "output_type": "stream",
     "text": [
      "Populating the interactive namespace from numpy and matplotlib\n"
     ]
    }
   ],
   "source": [
    "%pylab inline"
   ]
  },
  {
   "cell_type": "code",
   "execution_count": 2,
   "metadata": {
    "collapsed": false
   },
   "outputs": [],
   "source": [
    "data = loadtxt(\"adultos_pesos.csv\", usecols=(0,1,2), skiprows=1, delimiter=\",\")"
   ]
  },
  {
   "cell_type": "code",
   "execution_count": 3,
   "metadata": {
    "collapsed": false
   },
   "outputs": [],
   "source": [
    "fileinit = open(\"adultos_pesos.csv\")\n",
    "lines = fileinit.readlines()\n",
    "\n",
    "PH = []\n",
    "for line in lines:\n",
    "    if line[0]!=str(\"#\"):\n",
    "        #print line[2]\n",
    "        PH.append(line[2])\n",
    "    "
   ]
  },
  {
   "cell_type": "code",
   "execution_count": 78,
   "metadata": {
    "collapsed": false
   },
   "outputs": [
    {
     "data": {
      "text/plain": [
       "<matplotlib.text.Text at 0x92cbf50>"
      ]
     },
     "execution_count": 78,
     "metadata": {},
     "output_type": "execute_result"
    },
    {
     "data": {
      "image/png": "[encoded data removed]",
      "text/plain": [
       "<matplotlib.figure.Figure at 0x8ebf3d0>"
      ]
     },
     "metadata": {},
     "output_type": "display_data"
    }
   ],
   "source": [
    "\n",
    "PH = 7.0\n",
    "\n",
    "index1 = where( (data[:,0]==1) & (data[:,1]==PH) )\n",
    "index2 = where( (data[:,0]==2) & (data[:,1]==PH) )\n",
    "index3 = where( (data[:,0]==3) & (data[:,1]==PH) )\n",
    "index4 = where( (data[:,0]==4) & (data[:,1]==PH) )\n",
    "\n",
    "FEB = data[index1,2]\n",
    "MAR = data[index2,2]\n",
    "ABR = data[index3,2]\n",
    "MAY = data[index4,2]\n",
    "data_to_plot = [FEB, MAR, ABR, MAY]\n",
    "\n",
    "fig = plt.figure(1, figsize=(9, 6))\n",
    "title=(str(PH))\n",
    "ax = fig.add_subplot(111)\n",
    "bp = ax.boxplot(data_to_plot, patch_artist=False)\n",
    "ax.set_xticklabels(['Feb', 'Mar', 'Abr', 'May'])\n",
    "ax.set_ylabel(\"Peso (gramos)\")"
   ]
  },
  {
   "cell_type": "code",
   "execution_count": 79,
   "metadata": {
    "collapsed": false
   },
   "outputs": [
    {
     "data": {
      "text/plain": [
       "<matplotlib.text.Text at 0x9538290>"
      ]
     },
     "execution_count": 79,
     "metadata": {},
     "output_type": "execute_result"
    },
    {
     "data": {
      "image/png": "[encoded data removed]",
      "text/plain": [
       "<matplotlib.figure.Figure at 0x94287d0>"
      ]
     },
     "metadata": {},
     "output_type": "display_data"
    }
   ],
   "source": [
    "\n",
    "PH = 8.05\n",
    "\n",
    "index1 = where( (data[:,0]==1) & (data[:,1]==PH) )\n",
    "index2 = where( (data[:,0]==2) & (data[:,1]==PH) )\n",
    "index3 = where( (data[:,0]==3) & (data[:,1]==PH) )\n",
    "index4 = where( (data[:,0]==4) & (data[:,1]==PH) )\n",
    "\n",
    "FEB = data[index1,2]\n",
    "MAR = data[index2,2]\n",
    "ABR = data[index3,2]\n",
    "MAY = data[index4,2]\n",
    "data_to_plot = [FEB, MAR, ABR, MAY]\n",
    "\n",
    "fig = plt.figure(1, figsize=(9, 6))\n",
    "title=(str(PH))\n",
    "ax = fig.add_subplot(111)\n",
    "bp = ax.boxplot(data_to_plot, patch_artist=False)\n",
    "ax.set_xticklabels(['Feb', 'Mar', 'Abr', 'May'])\n",
    "ax.set_ylabel(\"Peso (gramos)\")"
   ]
  },
  {
   "cell_type": "code",
   "execution_count": null,
   "metadata": {
    "collapsed": true
   },
   "outputs": [],
   "source": []
  }
 ],
 "metadata": {
  "kernelspec": {
   "display_name": "Python 2",
   "language": "python",
   "name": "python2"
  },
  "language_info": {
   "codemirror_mode": {
    "name": "ipython",
    "version": 2
   },
   "file_extension": ".py",
   "mimetype": "text/x-python",
   "name": "python",
   "nbconvert_exporter": "python",
   "pygments_lexer": "ipython2",
   "version": "2.7.5+"
  }
 },
 "nbformat": 4,
 "nbformat_minor": 0
}
